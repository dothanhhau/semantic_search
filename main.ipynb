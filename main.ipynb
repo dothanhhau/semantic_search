{
 "cells": [
  {
   "cell_type": "code",
   "execution_count": 10,
   "metadata": {},
   "outputs": [
    {
     "name": "stderr",
     "output_type": "stream",
     "text": [
      "C:\\Users\\DO THANH HAU\\AppData\\Local\\Temp\\ipykernel_5400\\3198055687.py:8: FutureWarning: Setting an item of incompatible dtype is deprecated and will raise an error in a future version of pandas. Value '' has dtype incompatible with float64, please explicitly cast to a compatible dtype first.\n",
      "  df.fillna('', inplace=True)\n"
     ]
    }
   ],
   "source": [
    "import pandas as pd\n",
    "import requests\n",
    "\n",
    "# Đọc file Excel chứa danh sách câu hỏi\n",
    "input_file = \"D:/WorkSpace/python/semantic_search/app/static/questions.xlsx\"\n",
    "output_file = \"D:/WorkSpace/python/semantic_search/app/static/results.xlsx\"\n",
    "df = pd.read_excel(input_file)\n",
    "df.fillna('', inplace=True)"
   ]
  },
  {
   "cell_type": "code",
   "execution_count": 11,
   "metadata": {},
   "outputs": [],
   "source": [
    "# API endpoint\n",
    "url = \"http://localhost:8080/search\"  # Đổi lại URL nếu cần"
   ]
  },
  {
   "cell_type": "code",
   "execution_count": 12,
   "metadata": {},
   "outputs": [],
   "source": [
    "import re\n",
    "\n",
    "\n",
    "def is_roman_numeral(s):\n",
    "\t# Biểu thức chính quy kiểm tra chuỗi La Mã hợp lệ\n",
    "\ts = str(s).upper()\n",
    "\tpattern = r\"^M{0,4}(CM|CD|D?C{0,3})(XC|XL|L?X{0,3})(IX|IV|V?I{0,3})$\"\n",
    "\t\n",
    "\t# Kiểm tra chuỗi bằng biểu thức chính quy\n",
    "\treturn bool(re.match(pattern, s))"
   ]
  },
  {
   "cell_type": "code",
   "execution_count": 16,
   "metadata": {},
   "outputs": [
    {
     "data": {
      "text/plain": [
       "True"
      ]
     },
     "execution_count": 16,
     "metadata": {},
     "output_type": "execute_result"
    }
   ],
   "source": [
    "is_roman_numeral('iv')"
   ]
  },
  {
   "cell_type": "code",
   "execution_count": 16,
   "metadata": {},
   "outputs": [
    {
     "name": "stdout",
     "output_type": "stream",
     "text": [
      "0, "
     ]
    },
    {
     "name": "stderr",
     "output_type": "stream",
     "text": [
      "C:\\Users\\DO THANH HAU\\AppData\\Local\\Temp\\ipykernel_5400\\183912567.py:5: FutureWarning: Series.__getitem__ treating keys as positions is deprecated. In a future version, integer keys will always be treated as labels (consistent with DataFrame behavior). To access a value by position, use `ser.iloc[pos]`\n",
      "  question = row[2]\n",
      "C:\\Users\\DO THANH HAU\\AppData\\Local\\Temp\\ipykernel_5400\\183912567.py:6: FutureWarning: Series.__getitem__ treating keys as positions is deprecated. In a future version, integer keys will always be treated as labels (consistent with DataFrame behavior). To access a value by position, use `ser.iloc[pos]`\n",
      "  quydinh = row[5].strip()\n",
      "C:\\Users\\DO THANH HAU\\AppData\\Local\\Temp\\ipykernel_5400\\183912567.py:12: FutureWarning: Series.__getitem__ treating keys as positions is deprecated. In a future version, integer keys will always be treated as labels (consistent with DataFrame behavior). To access a value by position, use `ser.iloc[pos]`\n",
      "  tmp = [quydinh, question, row[3]]\n",
      "C:\\Users\\DO THANH HAU\\AppData\\Local\\Temp\\ipykernel_5400\\183912567.py:22: FutureWarning: Series.__getitem__ treating keys as positions is deprecated. In a future version, integer keys will always be treated as labels (consistent with DataFrame behavior). To access a value by position, use `ser.iloc[pos]`\n",
      "  pos_ques = row[3].split('-')\n"
     ]
    },
    {
     "name": "stdout",
     "output_type": "stream",
     "text": [
      "1, 2, 3, 4, 5, 6, 7, 8, 9, 10, 11, 12, 13, 14, 15, 16, 17, 18, 19, 20, 21, 22, 23, 24, 25, 26, 27, 28, 29, 30, 31, 32, 33, 34, 35, 36, 37, 38, 39, 40, 41, 42, 43, 44, 45, 46, 47, 48, 49, 50, 51, 52, 53, 54, 55, 56, 57, 58, 59, 60, 61, 62, 63, 64, 65, 66, 67, 68, 69, 70, 71, 72, 73, 74, 75, 76, 77, 78, 79, 80, 81, 82, 83, 84, 85, 86, 87, 88, 89, 90, 91, 92, 93, 94, 95, 96, 97, 98, 99, 100, 101, 102, 103, 104, 105, 106, 107, 108, 109, 110, 111, 112, 113, 114, 115, 116, 117, 118, 119, 120, 121, 122, 123, 124, 125, 126, 127, 128, 129, 130, 131, 132, 133, 134, 135, 136, 137, 138, 139, 140, 141, 142, 143, 144, 145, 146, 147, 148, 149, 150, 151, 152, 153, 154, 155, 156, 157, 158, 159, 160, 161, 162, 163, 164, 165, 166, 167, 168, 169, 170, 171, 172, 173, 174, 175, 176, 177, 178, 179, 180, 181, 182, 183, 184, 185, 186, 187, 188, 189, 190, 191, 192, 193, 194, 195, 196, 197, 198, 199, 200, 201, 202, 203, 204, 205, 206, 207, 208, 209, 210, 211, 212, 213, 214, 215, 216, 217, 218, 219, 220, 221, 222, 223, 224, 225, 226, 227, 228, 229, 230, 231, 232, 233, 234, 235, 236, 237, 238, 239, 240, 241, 242, 243, 244, 245, 246, 247, 248, 249, 250, 251, 252, 253, 254, 255, 256, 257, 258, 259, 260, 261, 262, 263, 264, 265, 266, 267, 268, 269, 270, 271, 272, 273, 274, 275, 276, 277, 278, 279, 280, 281, 282, 283, 284, 285, 286, 287, 288, 289, 290, 291, 292, 293, 294, 295, 296, 297, 298, 299, 300, 301, 302, 303, 304, 305, 306, 307, 308, 309, 310, 311, 312, 313, 314, 315, 316, 317, 318, 319, 320, 321, 322, 323, 324, 325, 326, 327, 328, 329, 330, 331, 332, 333, 334, 335, 336, 337, 338, 339, 340, 341, 342, 343, 344, 345, 346, 347, 348, 349, 350, 351, 352, 353, 354, 355, 356, 357, 358, 359, 360, 361, 362, 363, 364, 365, 366, 367, 368, 369, 370, 371, 372, 373, 374, 375, 376, 377, 378, 379, 380, 381, 382, 383, 384, 385, 386, 387, 388, 389, 390, 391, 392, 393, 394, 395, 396, 397, 398, 399, 400, 401, 402, 403, 404, 405, 406, 407, 408, 409, 410, 411, 412, 413, 414, 415, 416, 417, 418, 419, 420, 421, 422, 423, 424, 425, 426, 427, 428, 429, 430, 431, 432, 433, 434, 435, 436, 437, 438, 439, 440, 441, 442, 443, 444, 445, 446, 447, 448, 449, 450, 451, 452, 453, 454, 455, 456, 457, 458, 459, 460, 461, 462, 463, 464, 465, 466, 467, 468, 469, 470, 471, 472, 473, 474, 475, 476, 477, 478, 479, 480, 481, 482, 483, 484, 485, 486, 487, 488, 489, 490, 491, 492, 493, 494, 495, 496, 497, 498, 499, 500, 501, 502, 503, 504, 505, 506, 507, 508, 509, 510, 511, 512, 513, 514, 515, 516, 517, 518, 519, 520, 521, 522, 523, 524, 525, 526, 527, 528, 529, 530, 531, 532, 533, 534, 535, 536, 537, 538, 539, 540, "
     ]
    }
   ],
   "source": [
    "\n",
    "ans = []\n",
    "# Lặp qua từng câu hỏi trong file\n",
    "for index, row in df.iterrows():\n",
    "\tprint(index, end=', ')\n",
    "\tquestion = row[2]\n",
    "\tquydinh = row[5].strip()\n",
    "\tdata = {\"question\": question, \"partitions\": []}  # Cấu trúc request body\n",
    "\t\n",
    "\tresponse = requests.post(url, json=data)\n",
    "\tresponse.raise_for_status()\n",
    "\tresult = response.json()\n",
    "\ttmp = [quydinh, question, row[3]]\n",
    "\t\n",
    "\ttmp_content = []\n",
    "\tcheck = 0\n",
    "\tfor i in range(5):\n",
    "\t\tif i < len(result):\n",
    "\t\t\ttmp_content.append(result[i]['content'])\n",
    "\t\t\ttmp.append(result[i]['position'])\n",
    "\t\t\t\n",
    "\t\t\tif quydinh == result[i]['doc_name'].strip():\n",
    "\t\t\t\tpos_ques = row[3].split('-')\n",
    "\t\t\t\tpos_ans = result[i]['position'].split('-')\n",
    "\t\t\t\tpos_ques = [re.sub(r'\\s+', ' ', s).strip().lower() for s in pos_ques]\n",
    "\t\t\t\tpos_ans = [re.sub(r'\\s+', ' ', s).strip().lower() for s in pos_ans]\n",
    "\n",
    "\t\t\t\tb = []\n",
    "\t\t\t\tfor x in pos_ans:\n",
    "\t\t\t\t\tx = str(x)\n",
    "\t\t\t\t\tif x.startswith('chương') or x.startswith('điều') or is_roman_numeral(x) or x[0].isdigit(): x = x[:-1]\n",
    "\t\t\t\t\tb.append(x)\n",
    "\t\t\t\tpos_ans = b\n",
    "\n",
    "\t\t\t\tb = []\n",
    "\t\t\t\tfor x in pos_ques:\n",
    "\t\t\t\t\tx = str(x)\n",
    "\t\t\t\t\tif x.startswith('khoản'): x = x.split(' ')[1]\n",
    "\t\t\t\t\tb.append(x)\n",
    "\t\t\t\tpos_ques = b\n",
    "\n",
    "\t\t\t\tif len(pos_ques) >=2:\n",
    "\t\t\t\t\tif len(pos_ans) == 1: continue\n",
    "\t\t\t\t\tif (pos_ques[0] == pos_ans[0]) and (pos_ques[1] == pos_ans[1]): check = True\n",
    "\n",
    "\t\t\t\telse:\n",
    "\t\t\t\t\tif pos_ans[0] == pos_ques[0]: check = True\n",
    "\n",
    "\t\telse:\n",
    "\t\t\ttmp_content.append('')\n",
    "\t\t\ttmp.append('')\n",
    "\t\n",
    "\tans.append(tmp + [check] + tmp_content)\n",
    "\n",
    "output_file = 'D:/WorkSpace/python/semantic_search/app/static/results3.xlsx'\n",
    "columns = ['Quy định', 'Câu hỏi', 'Vị trí đúng', 'Ví trí 1', 'Vị trí 2', 'Vị trí 3', 'Vị trí 4', 'Vị trí 5', 'Nhãn', 'Trả lời 1', 'Trả lời 2', 'Trả lời 3', 'Trả lời 4', 'Trả lời 5']\n",
    "df_results = pd.DataFrame(ans, columns=columns)\n",
    "df_results.to_excel(output_file, index=False)"
   ]
  },
  {
   "cell_type": "code",
   "execution_count": 14,
   "metadata": {},
   "outputs": [
    {
     "data": {
      "text/plain": [
       "[[0,\n",
       "  'Cách thức đăng ký môn học qua hệ thống trực tuyến của trường như thế nào?',\n",
       "  '',\n",
       "  'Chương II:-Điều 7.-7.3.',\n",
       "  'HƯỚNG DẪN KHAI THÁC, SỬ DỤNG THƯ VIỆN',\n",
       "  'Chương II:-Điều 7.-7.7.',\n",
       "  'Chương II:-Điều 7.-7.1.',\n",
       "  'Chương II:-Điều 7.-7.8.',\n",
       "  0,\n",
       "  '7.3. Khảo sát ý kiến người học sắp tốt nghiệp về CTĐT\\n1. Mục đích:\\na. Giúp Nhà trường, khoa, phòng chức năng thu thập thông tin và mức độ hài lòng của người học sắp tốt nghiệp về CTĐT của khóa học để có cơ sở xây dựng kế hoạch cải tiến chất lượng CTĐT.\\nb. Tạo điêu kiện đê người học phản ánh tâm tư, nguyện vọng, ý kiên của mình vê CTĐT của Nhà trường trước khi tốt nghiệp.\\nc. Giúp Nhà trường, khoa, phòng chức năng thu thập đầy đủ thông tin phục vụ cho công tác tự đánh giá, kiểm định chất lượng cấp CSGD, CTĐT theo yêu cầu của các tiêu chí chất lượng của Bộ GD&ĐT, AUN-QA hoặc các tổ chức khác.\\n2. Đối tượng khảo sát: Chương trình đào tạo các trình độ đại học, thạc sĩ của Trường ĐHỌN.\\n3. Đối tượng tham gia khảo sát: Người học sắp tốt nghiệp các bậc, hệ đào tạo của Trường.\\n4. Hình thức khảo sát: Người học đăng nhập vào tài khoản cá nhân trên website của Trường để trả lời các nội dung khảo sát trong thời gian quy định hoặc trả lời Phiếu khảo sát trực tiếp, qua email.\\n5. Nội dung khảo sát:\\nCTĐT, chương trình dạy học, hoạt động giảng dạy, kiểm tra đánh giá, cơ sở vật chất, các dịch vụ tư vấn, hỗ trợ sinh viên, môi trường, cảnh quan, an toàn, mức độ hài lòng của người học về CTĐT và các ý kiến góp ý khác.\\n6. Công cụ khảo sát:\\na. Phiếu khảo sát sinh viên hệ chính quy sắp tốt nghiệp về CTPI: BM03a_DHQN_ KS.SVNC (thường xuyên được cập nhật, điều chỉnh).\\nb. Phiếu khảo sát học viên trình độ thạc sĩ sắp tốt nghiệp về CTĐT: BM03b_DHQN_KS.HVSTN (thường xuyên được cập nhật, điều chỉnh).\\nc. Phiêu khảo sát học viên hệ vừa làm vừa học sắp tốt nghiệp về CTĐT:DHQN KS.HVNCBM03c(thường xuyên được cập nhật, điều chỉnh).\\n7. Thời điểm khảo sát:\\na. Vào học kỳ cuối của CTĐT đối với sinh viên.\\nb. Vào Lễ tốt nghiệp của học viên cao học, nghiên cứu sinh.\\n8. Quy trình khảo sát:\\nBƯỚC 1: CHUẨN BỊ KHẢO SÁT\\nPhòng KT&ĐBCL chịu trách nhiệm rà soát, chỉnh sửa và cập nhật phiếu khảo sát. Sau đó, phòng này lập kế hoạch khảo sát và trình Hiệu trưởng phê duyệt. Công việc này được thực hiện vào học kỳ cuối của các chương trình đào tạo (CTĐT). Các phiếu khảo sát sử dụng sẽ theo các mẫu BM03a_DHQN_KS.SVNC, BM03b_DHQN_KS.HVSTN, và BM03c_DHQN_KS.HVNC.\\nBƯỚC 2: PHÊ DUYỆT VÀ THÔNG BÁO KẾ HOẠCH KHẢO SÁT\\nHiệu trưởng thực hiện phê duyệt kế hoạch khảo sát và Phiếu khảo sát sau khi nhận được đề xuất từ Phòng KT&ĐBCL. Sau khi được phê duyệt, Phòng KT&ĐBCL sẽ thông báo kế hoạch khảo sát đến các Khoa, Bộ môn, giảng viên và người học. Các công việc này sẽ hoàn tất ngay sau khi kế hoạch được duyệt. Văn bản sử dụng là Kế hoạch khảo sát.\\nBƯỚC 3: TỔ CHỨC KHẢO SÁT\\nPhòng KT&ĐBCL triển khai khảo sát cho sinh viên, học viên thông qua tài khoản cá nhân trên hệ thống phần mềm E-Survey hoặc Cổng thông tin sinh viên/học viên. Thời gian khảo sát tối đa là 60 ngày. Trong vòng 01 tuần sau khi nhận được kế hoạch, các Khoa, Phòng CTSV và Phòng ĐTSDH sẽ tuyên truyền mục đích, yêu cầu của việc lấy ý kiến phản hồi từ người học về CTĐT, đồng thời cử người phụ trách chính thực hiện khảo sát. Trung tâm CNTT&TT sẽ đảm bảo hạ tầng kỹ thuật và đường truyền trong suốt thời gian diễn ra khảo sát.\\nBƯỚC 4: HOÀN THÀNH KHẢO SÁT, BÁO CÁO KẾT QUẢ\\nSau khi khảo sát kết thúc, Phòng KT&ĐBCL thực hiện trích xuất dữ liệu khảo sát, nhập liệu, tổng hợp và phân tích kết quả. Báo cáo kết quả khảo sát sau đó được trình Hiệu trưởng phê duyệt và thông tin sẽ được gửi đến Khoa/Bộ môn/CTĐT có liên quan. Thời gian thực hiện là trong vòng 30 ngày sau khi kết thúc khảo sát. Kết quả được tổng hợp trong báo cáo theo biểu mẫu chuẩn.\\nBƯỚC 5: CẢI TIẾN CHẤT LƯỢNG\\nKhoa/Bộ môn và giảng viên chịu trách nhiệm họp nội bộ để thảo luận kết quả khảo sát và đề xuất các biện pháp cải tiến chất lượng học tập. Trong vòng 15 ngày sau khi có kết quả khảo sát, các đơn vị cần nộp báo cáo về việc sử dụng kết quả khảo sát và kế hoạch cải tiến chất lượng cho Trường thông qua Phòng KT&ĐBCL. Biên bản họp và báo cáo sử dụng biểu mẫu BM09_DHQN_BCCTCL.\\nBƯỚC 6: LƯU TRỮ\\nCuối cùng, toàn bộ hồ sơ khảo sát, biên bản cải tiến chất lượng sẽ được Phòng KT&ĐBCL và Khoa/Bộ môn lưu trữ đầy đủ trong vòng 05 năm. Dữ liệu sẽ được lưu tại hồ sơ văn bản và CSDL khảo sát.\\n',\n",
       "  '$$$ HƯỚNG DẪN KHAI THÁC, SỬ DỤNG THƯ VIỆN\\nThư viện là đơn vị tổ chức và quản lý các hoạt động thông tin - thư viện, phục vụ công tác đào tạo, nghiên cứu của viên chức và người học của Trường. Trụ sở của Thư viện tọa lạc trên khuôn viên phía Đông Bắc của trường Đại học Quy Nhơn, với tổng diện tích sử dụng gần 3.500 m2, bao gồm tòa nhà Thư viện trung tâm (gồm 3 tầng, được xây dựng theo kiến trúc Pháp cổ) và dãy nhà trệt nằm liền kề. Cấu trúc của Thư viện bao gồm: 01 phòng Giáo trình, 03 phòng Đọc mở, 10 phòng Tự học, 01 phòng Đọc thân thiện, 01 phòng Câu lạc bộ. Số chỗ ngồi phục vụ bạn đọc: hơn 300 chỗ (tự học, học nhóm). Số máy tính cấu hình cao phục vụ tra cứu, học tập: 20 máy.\\nThư viện mở cửa phục vụ theo giờ hành chính các ngày từ thứ Hai đến thứ Sáu hàng tuần. Cụ thể:  \\nBuổi sáng: phục vụ bạn đọc mượn/ trả tài liệu từ 7h30’ - 11h15’  \\nBuổi chiều: phục vụ bạn đọc mượn/ trả tài liệu từ 13h45’ - 16h45’.\\nLưu ý: Cuối mỗi buổi sẽ có hồi chuông báo hết giờ phục vụ, bạn đọc cần khẩn trương thu dọn tài liệu, tắt máy tính, sắp xếp lại bàn ghế và ra về.\\nTrong những năm gần đây, nguồn tài nguyên của Thư viện đã không ngừng được bổ sung và đa dạng hóa. Hiện tại, Thư viện đang phục vụ hơn 30.000 đầu sách (gồm sách Việt văn và Ngoại văn), gần 5.000 luận văn, luận án, đồ án các loại, gần 100 đầu báo và tạp chí trong nước và nước ngoài...\\nNguồn tài nguyên số cũng được Thư viện chú trọng phát triển. Thư viện số cung cấp tiện ích tra cứu trực tuyến, đọc toàn văn các file tài liệu số với gần 8.000 tài liệu số (là các giáo trình, tài liệu tham khảo, luận văn thạc sĩ, luận án tiến sĩ ... phù hợp với các lĩnh vực đào tạo của Nhà trường). Bạn đọc có thể truy cập Cổng thông tin Thư viện tại địa chỉ http://lib.qnu.edu.vn/ , đăng nhập bằng tài khoản mặc định ban đầu để tra cứu toàn bộ cơ sở dữ liệu tài liệu hiện có tại Thư viện cũng như và khai thác các tiện ích trực tuyến của Thư viện số. Cụ thể:  \\nTên đăng nhập = mã số sinh viên  \\nMật khẩu = mã số sinh viên\\nBên cạnh đó, Thư viện QNU đã tham gia vào hệ thống Liên hiệp thư viện Việt Nam và được quyền khai thác 3 cơ sở dữ liệu: Proquest Central, STD, KQNC; mua quyền khai thác tài liệu tại Thư viện pháp luật trực tuyến, Cơ sở dữ liệu MathSciNet. Ngoài ra, Thư viện đã đạt được thỏa thuận hợp tác khai thác các CSDL từ Trung tâm học liệu trường Đại học Cần Thơ... Để tra cứu, khai thác các CSDL trực tuyến này, bạn đọc cần đến trực tiếp Thư viện và truy cập thông qua hệ thống máy tính của Thư viện. Riêng cơ sở dữ liệu Thư viện pháp luật trực tuyến, bạn đọc truy cập vào địa chỉ https://thuvienphapluat.vn/, tiến hành truy cập bằng tài khoản mặc định của Trường (Tên đăng nhập: QNU; Mật khẩu: 654321; tối đa 15 người có thể đăng nhập cùng thời điểm).\\nTrong năm học 2024 – 2025, Thư viện sẽ tiếp tục được đầu tư, cải tạo không gian theo hướng tiện ích và thân thiện; đồng thời sẽ không ngừng được bổ sung thêm vốn tài liệu để đáp ứng ngày một phong phú hơn nhu cầu của bạn đọc. Rất hân hạnh được phục vụ Quý bạn đọc!\\nThông tin liên hệ:  \\nEmail: tttl@qnu.edu.vn  \\nĐiện thoại: 02563.846.623  \\nWebsite: http://lib.qnu.edu.vn/  \\nFanpage: https://www.facebook.com/thuviendhqn\\n',\n",
       "  '7.7. Khảo sát sự hài lòng của người học về chât lượng các hoạt động, cơ sở vật chât, trang thiết bị, dịch vụ hỗ trợ đào tạo và phục vụ cộng đồng\\n1. Mục đích:\\na. Giúp Trường thu thập thông tin và xem xét mức độ hài lòng của người học về chất lượng, hiệu quả các hoạt động, cơ sở vật chất, trang thiết bị, dịch vụ hỗ trợ đào tạo và phục vụ cộng đồng nhằm phục vụ cho công tác tự đánh giá cấp Trường hoặc CTĐT theo yêu cầu của các tiêu chuẩn đánh giá chất lượng của Bộ Giáo dục và Đảo tạo hoặc các tổ chức khác.\\nb. Tạo thêm kênh thông tin để người học phản ánh, bày tỏ ý kiến của mình trong quá trình học tập tại Trường.\\nc. Giúp các khoa, phòng, viện, trung tâm có thêm cơ sở đề cải tiến, nâng cao chất lượng các hoạt động, cơ sở vật chất, trang thiết bị, dịch vụ hỗ trợ đào tạo và phục vụ cộng đông của đơn vI.\\n2. Đôi tượng khảo sát: sự hải lòng của người học về chât lượng các hoạt động, cơ sở vật chất, trang thiết bị, địch vụ hỗ trợ đào tạo và phục vụ cộng đồng của Trường.\\n3. Đối tượng tham gia khảo sát: Người học các bậc, hệ chính quy đang theo học tại Trường.\\n4. Hình thức khảo sát: Thu thập ý kiến trực tiếp, qua phiếu khảo sát, qua email hoặc qua web.\\n5. Nội dung khảo sát: Khảo sát sự hài lòng của người học về chất lượng các hoạt động, cơ sở vật chất, trang thiết bị, dịch vụ hỗ trợ đào tạo và phục vụ cộng đồng gồm: Thư viện, phòng học, phòng thí nghiệm, thực hành, hệ thống CNTT, các hoạt động hỗ trợ của đội ngũ nhân viên các phòng/khoa/trung tâm, các dịch vụ hỗ trợ khác, hoạt động phục vụ cộng đồng của Nhà trường...\\n6. Công cụ khảo sát:\\na. Phiếu khảo sát sự hài lòng của sinh viên hệ chính quy về chất lượng các hoạt động, cơ sở vật chất, trang thiết bị, dịch vụ hỗ trợ đảo tạo và phục vụ cộng đồng: BMØ07a_DHỌN_KSSV.HĐDVHT (thường xuyên được cập nhật, điều chỉnh).\\nb. Phiếu khảo sát sự hải lòng của học viên trình độ thạc sĩ về chất lượng các hoạt động, cơ sở vật chất, trang thiết bị, dịch vụ hỗ trợ đào tạo, phục vụ cộng đồng: BM07b_DHQN_KSHV.HĐDVHT (thường xuyên được cập nhật, điều chỉnh).\\n7. Thời gian khảo sát: Trong quá trình tự đánh giá cấp Trường hoặc CTĐT.\\n8. Quy trình khảo sát:\\n1. Chuẩn bị khảo sát:\\nPhòng KT&ĐBCL có nhiệm vụ rà soát, chỉnh sửa, cập nhật nội dung phiếu khảo sát. Tiếp đó, phòng lập kế hoạch khảo sát kèm theo danh sách các đơn vị cần khảo sát như CSV, CHV, NSDLĐ, và gửi kế hoạch khảo sát và danh sách này đến Phòng KT&ĐBCL. Công việc này được thực hiện trong quá trình xây dựng và rà soát, chỉnh sửa CTĐT. Các văn bản/biểu mẫu liên quan bao gồm: Mẫu phiếu khảo sát BM06a_ĐHQN_KS.CSV, BM06b_ĐHQN_KS.CHV, BM06c_ĐHQN_KS.NSDLĐ và Kế hoạch khảo sát.\\n2. Phê duyệt và ban hành kế hoạch:\\nSau khi nhận được kế hoạch khảo sát từ Phòng KT&ĐBCL, Hiệu trưởng tiến hành phê duyệt kế hoạch khảo sát. Sau khi phê duyệt xong, Phòng KT&ĐBCL sẽ thông báo kế hoạch khảo sát và phiếu khảo sát đến các đơn vị có liên quan. Thời gian thực hiện là trong vòng 02 ngày sau khi nhận được tờ trình từ đơn vị. Văn bản liên quan là Kế hoạch khảo sát.\\n3. Tổ chức khảo sát:\\nPhòng KT&ĐBCL cùng các Khoa tổ chức khảo sát bằng cách phát trực tiếp phiếu khảo sát hoặc phát phiếu khảo sát qua email cho người học. Ngoài ra, có thể sử dụng phần mềm E-Survey, công thông tin sinh viên hoặc Google Forms để thực hiện khảo sát. Thời gian tổ chức khảo sát là trong vòng 15 ngày kể từ khi kế hoạch được phê duyệt. Các văn bản/biểu mẫu liên quan là phần mềm E-Survey, cổng thông tin sinh viên/học viên, Google Forms.\\n4. Hoàn thành khảo sát và báo cáo kết quả:\\nPhòng KT&ĐBCL thực hiện nhập liệu, xử lý và tổng hợp kết quả khảo sát. Sau đó, lập báo cáo tổng hợp trình Hiệu trưởng phê duyệt. Khi được phê duyệt, kết quả khảo sát sẽ được gửi đến các đơn vị liên quan (nếu có). Thời gian thực hiện là trong vòng 30 ngày sau khi kết thúc khảo sát. Văn bản liên quan bao gồm: Các phiếu khảo sát đã được ghi mã, Dữ liệu khảo sát và Báo cáo tổng hợp kết quả khảo sát.\\n5. Cải tiến chất lượng:\\nCác đơn vị liên quan sẽ tổ chức họp để thảo luận và đưa ra ý kiến phản hồi của người học về các hoạt động, cơ sở vật chất, trang thiết bị, dịch vụ hỗ trợ đào tạo. Sau đó, lập báo cáo cải tiến chất lượng CTĐT và nộp về Trường thông qua Phòng KT&ĐBCL. Thời gian thực hiện là trong vòng 15 ngày sau khi nhận kết quả khảo sát. Văn bản liên quan bao gồm: Biên bản họp, Báo cáo theo biểu mẫu BM09_ĐHQN_BCCTCL và Dữ liệu khảo sát.\\n6. Lưu trữ:\\nCác đơn vị bao gồm Khoa, Phòng ĐTSĐH, Phòng KT&ĐBCL thực hiện lưu trữ các thông tin, văn bản và dữ liệu khảo sát. Thời gian lưu trữ tối thiểu là 05 năm. Các văn bản/biểu mẫu liên quan là các hồ sơ và CSDL khảo sát.\\n',\n",
       "  '7.1. Khảo sát ý kiến người học về hoạt động giảng dạy, hướng dẫn thực hành, thí nghiệm của GV.\\n1. Mục đích:\\na. Giúp Nhà trường, khoa (bộ môn) thu thập thông tin và mức độ hài lòng của người học về hoạt động giảng dạy, hướng dẫn thực hành, thí nghiệm của GV;\\nb. Giúp Nhà trường, khoa (bộ môn) có thêm cơ sở để xây dựng kế hoạch bồi dưỡng GV, nhân viên, cải tiến chất lượng đào tạo; phòng ngừa những tiêu cực trong hoạt động giảng dạy, hướng dẫn; phát hiện và nhân rộng những gương tích cực, điển hình trong đội ngũ GV;\\nc. Tạo thêm kênh thông tin giúp GV tự điều chỉnh hoạt động giảng dạy, hướng dẫn nhằm hoàn thiện và phát huy năng lực cá nhân; góp phần nâng cao tinh thần trách nhiệm của GV trong việc thực hiện mục tiêu đào tạo của Nhà trường;\\nd. Tăng cường tinh thần trách nhiệm của người học với quyền lợi, nghĩa vụ học tập và rèn luyện của bản thân; tạo điều kiện để người học phản ánh tâm tư, nguyện vọng, ý kiến của mình về hoạt động giảng dạy, hướng dẫn của GV cũng như các hoạt động khác của Nhà trường.\\n2. Đối tượng khảo sát:\\nHoạt động giảng dạy học phần lý thuyết và hoạt động hướng dẫn thực hành, thí nghiệm của GV trong 01 học kỳ của năm học.\\n3. Đối tượng tham gia khảo sát:\\nTất cả người học các hệ, bậc đào tạo của Trường ĐHQN.\\n4. Hình thức khảo sát:\\nNgười học đăng nhập vào tài khoản cá nhân (online) để trả lời Phiếu khảo sát đối với các học phần đã học sau khi có điểm thi học phần.\\n5. Nội dung khảo sát:\\na. Về hoạt động giảng dạy các học phần lý thuyết:\\nCông tác chuẩn bị giảng dạy, nội dung và phương pháp giảng dạy; Học liệu phục vụ giảng dạy, học tập và thời gian giảng dạy của GV; Trách nhiệm và sự nhiệt tình của GV; Khả năng khuyến khích sáng tạo và tư duy độc lập của người học; Sự công bằng, khách quan của GV trong kiểm tra đánh giá quá trình và đánh giá kết quả học tập; Năng lực của GV trong tư vấn và tổ chức, hướng dẫn hoạt động học tập và nghiên cứu của người học; Tác phong sư phạm của GV; Mức độ hài lòng của người học và các ý kiến góp ý khác.\\nb. Về hoạt động hướng dẫn thực hành, thí nghiệm:\\nNội dung và phương pháp hướng dẫn thực hành, thí nghiệm của GV; Tài liệu phục vụ thực hành, thí nghiệm; Trách nhiệm, thái độ, sự nhiệt tình của GV đối với người học; Sự công bằng của GV trong hoạt động kiểm tra đánh giá kết quả học tập; Năng lực của GV trong tư vấn, tổ chức, hướng dẫn cho người học về an toàn lao động, cách xử lý tình huống liên quan đến nội dung thực hành; Mức độ hài lòng của người học và các ý kiến góp ý khác.\\n6. Công cụ khảo sát:\\na. Phiếu khảo sát hoạt động giảng dạy học phần lý thuyết trình độ đại học: BM01a_DHỌN_KS.HĐGD (thường xuyên được cập nhật, điều chỉnh).\\nb. Phiếu khảo sát hoạt động hướng dẫn thực hành, thí nghiệm trình độ đại học: BM0Ib_DHQN_KS.HDTH (thường xuyên được cập nhật, điều chỉnh).\\nc. Phiếu khảo sát hoạt động giảng dạy học phần trình độ thạc sĩ: BM0Ic_DHỌN_KS.HĐGD (thường xuyên được cập nhật, điều chỉnh).\\n7. Thời gian khảo sát:\\na. Sau kỳ thi kết thúc học phần ở mỗi học kỳ đối với sinh viên.\\nb. Sau khi kết thúc mỗi học phần, chuyên đề đối với học viên hệ vừa làm vừa học, học viên cao học, nghiên cứu sinh.\\n8. Quy trình khảo sát:\\nBước 1: Chuẩn bị khảo sát\\nPhòng Khảo thí và Đảm bảo chất lượng (KT&ĐBCL) tiến hành rà soát, chỉnh sửa các Phiếu khảo sát. Sau đó, đơn vị này lập kế hoạch khảo sát và trình Hiệu trưởng phê duyệt. Thời gian thực hiện công việc này là trước kỳ học thứ hai theo phân công mẫu hoặc vào kỳ/khoa khi tổ chức các học phần mới hoặc chuyên đề. Các biểu mẫu liên quan bao gồm BM01a_ĐHQN_KS.HĐGD, BM01b_ĐHQN_KS.HĐTH, BM01c_ĐHQN_KS.HĐGD và BM01e_ĐHQN_KS.HĐGD.\\nBước 2: Phê duyệt và thông báo khảo sát\\nSau khi kế hoạch khảo sát được Hiệu trưởng phê duyệt, Phòng KT&ĐBCL chịu trách nhiệm thông báo kế hoạch này đến các Khoa, Bộ môn, giảng viên và người học. Việc thông báo sẽ được thực hiện ngay sau khi kế hoạch khảo sát chính thức được phê duyệt. Các công cụ sử dụng trong bước này bao gồm phần mềm E-Survey và hệ thống Công thông tin sinh viên/viên chức để truyền tải thông tin đến các đối tượng liên quan.\\nBước 3: Thực hiện khảo sát\\nPhòng KT&ĐBCL triển khai khảo sát cho sinh viên, học viên thông qua tài khoản cá nhân, với thời gian khảo sát kéo dài trong vòng 60 ngày. Đồng thời, Phòng Công tác sinh viên (CTSV) và Phòng Đào tạo đại học (ĐTĐH) tuyên truyền về mục đích, yêu cầu, cũng như hướng dẫn cho sinh viên, học viên và giảng viên thực hiện khảo sát theo đúng kế hoạch, thời gian tối đa trong vòng 01 tuần sau khi nhận được thông báo. Trung tâm Công nghệ thông tin và Truyền thông (CNTT&TT) đảm bảo hạ tầng kỹ thuật, đặc biệt là đường truyền Internet và các công cụ kỹ thuật hỗ trợ cho người tham gia khảo sát.\\nBước 4: Hoàn thành khảo sát và công bố kết quả\\nPhòng KT&ĐBCL sẽ trích xuất dữ liệu khảo sát sau khi kết thúc, tiến hành phân tích, tổng hợp và lập báo cáo gửi đến Hiệu trưởng, các Khoa (Bộ môn) và chủ nhiệm đề tài (CĐT). Thời gian hoàn thành bước này là 30 ngày sau khi kết thúc khảo sát. Báo cáo sẽ bao gồm các nội dung tổng hợp toàn bộ ý kiến thu thập được và kết quả phân tích chi tiết gửi đến các đơn vị liên quan.\\nBước 5: Cải tiến chất lượng\\nDựa trên kết quả khảo sát, các Khoa/Bộ môn và giảng viên tổ chức họp thảo luận nhằm đưa ra các biện pháp cải tiến chất lượng đào tạo. Nội dung các cuộc họp sẽ được lập biên bản theo mẫu BM09_ĐHQN_BCCTCL để ghi nhận các hành động cải tiến cụ thể. Thời gian hoàn thành bước này là trong vòng 15 ngày kể từ khi có kết quả khảo sát.\\nBước 6: Lưu trữ hồ sơ\\nCuối cùng, Phòng KT&ĐBCL và các Khoa/Bộ môn có trách nhiệm lưu trữ toàn bộ hồ sơ liên quan đến khảo sát cũng như biên bản cải tiến chất lượng trong thời gian tối thiểu là 05 năm. Hồ sơ sẽ được lưu trữ song song ở dạng bản cứng và trên hệ thống CSDL của nhà trường.\\n',\n",
       "  '7.8. Khảo sát sự hài lòng của giảng viên về chât lượng các hoạt động, cơ sở vật chât, trang thiết bị, hoạt động hỗ trợ đào tạo\\n1. Mục đích:\\na. Giúp Trường thu thập thông tin và xem xét mức độ hài lòng của giảng viên về chất lượng, hiệu quả các hoạt động, cơ sở vật chất, trang thiết bị, hoạt động hỗ trợ đảo tạo của đội ngũ nhân viên nhằm phục vụ cho công tác tự đánh giá cấp Trường hoặc CTĐT theo yêu cầu của các tiêu chuẩn đánh giá chất lượng của Bộ Giáo dục và Đào tạo hoặc các tổ chức khác.\\nb. Tạo thêm kênh thông tin để giảng viên phản ánh, bày tỏ ý kiến của mình trong quá trình học tập tại Trường.\\nc. Giúp các khoa, phòng, viện, trung tâm có thêm cơ sở để cải tiến, nâng cao chất lượng các hoạt động, cơ sở vật chất, trang thiết bị, hoạt động hỗ trợ đào tạo của đội ngũ nhân viên của đơn vị.\\n2. Đối tượng khảo sát: sự hài lòng của giảng viên về chất lượng các hoạt động, cơ sở vật chất, trang thiết bị, địch vụ hỗ trợ đào tạo của Trường.\\n3. Đối tượng tham gia khảo sát: GV đang giảng dạy tại Trường ĐHQN.\\n4. Hình thức khảo sát: Thu thập ý kiến trực tiếp, qua phiếu khảo sát, qua email hoặc qua web.\\n5. Nội dung khảo sát: Khảo sát sự hài lòng của giảng viên về chất lượng các hoạt động, cơ sở vật chất, trang thiết bị, dịch vụ hỗ trợ đào tạo gồm: Thư viện, phòng học, phòng thí nghiệm, thực hành, hệ thông CNTT, các hoạt động hỗ trợ của Nhà trường.\\n6. Công cụ khảo sát: Phiếu khảo sát sự hài lòng của giảng viên về chất lượng các hoạt động, cơ sở vật chất, trang thiết bị dịch vụ hỗ trợ đào tạo: BM08_DHQN_KSGV.TH (thường xuyên được cập nhật, điều chính).\\n7. Thời gian khảo sát: hàng năm.\\n8. Quy trình khảo sát:\\n1. Chuẩn bị khảo sát:\\nPhòng KT&ĐBCL thực hiện điều chỉnh, cập nhật nội dung phiếu khảo sát, lập kế hoạch khảo sát và trình Hiệu trưởng phê duyệt. Công việc này được thực hiện hằng năm để đảm bảo sự chính xác và đầy đủ của công tác khảo sát. Văn bản, biểu mẫu liên quan gồm có: BM06_ĐHQN_KSGV,TH; Kế hoạch khảo sát giảng viên về hoạt động dạy học, cơ sở vật chất, trang thiết bị, dịch vụ hỗ trợ đào tạo.\\n2. Phê duyệt và ban hành kế hoạch:\\nSau khi nhận kế hoạch khảo sát từ Phòng KT&ĐBCL, Hiệu trưởng sẽ tiến hành phê duyệt kế hoạch khảo sát. Sau khi được phê duyệt, Phòng KT&ĐBCL sẽ thông báo kế hoạch khảo sát đến giảng viên. Công tác này diễn ra ngay sau khi kế hoạch khảo sát được phê duyệt. Văn bản liên quan là Kế hoạch khảo sát.\\n3. Tổ chức khảo sát:\\nPhòng KT&ĐBCL phối hợp cùng các Khoa tổ chức khảo sát bằng cách gửi và thu thập phiếu khảo sát trực tiếp hoặc qua email, hệ thống phần mềm hoặc các kênh khảo sát khác. Ngoài ra, TT. CNTT&TT đảm bảo kết nối Internet và các vấn đề kỹ thuật trong suốt thời gian khảo sát. Thời gian tổ chức khảo sát là trong vòng 15 ngày kể từ khi kế hoạch được ban hành. Văn bản/biểu mẫu liên quan bao gồm: phần mềm E-Survey, cổng thông tin giảng viên, Google Forms.\\n4. Hoàn thành khảo sát và Báo cáo kết quả:\\nPhòng KT&ĐBCL thực hiện nhập liệu, xử lý và tổng hợp kết quả khảo sát. Sau đó, lập báo cáo tổng hợp gửi Hiệu trưởng phê duyệt. Sau khi phê duyệt, kết quả khảo sát sẽ được gửi đến các đơn vị liên quan (nếu có). Công việc này được thực hiện trong vòng 30 ngày sau khi kết thúc khảo sát. Văn bản/biểu mẫu liên quan bao gồm: các file mềm dữ liệu, kết quả khảo sát, báo cáo tổng hợp, kết quả cụ thể của từng đơn vị (nếu có).\\n5. Cải tiến chất lượng:\\nCác đơn vị liên quan tổ chức họp để thảo luận và đưa ra ý kiến phản hồi của giảng viên về các hoạt động dạy học, cơ sở vật chất, trang thiết bị, dịch vụ hỗ trợ đào tạo, việc sử dụng thông tin khảo sát để xây dựng các giải pháp cải tiến chất lượng. Thời gian thực hiện trong vòng 15 ngày sau khi nhận được kết quả khảo sát. Văn bản liên quan bao gồm: Biên bản họp, Báo cáo theo mẫu BM09_ĐHQN_BCCTCL.\\n6. Lưu trữ:\\nPhòng KT&ĐBCL và các đơn vị liên quan thực hiện lưu trữ các thông tin, văn bản và dữ liệu khảo sát để phục vụ cho công tác đánh giá và cải tiến chất lượng sau này. Thời gian lưu trữ là 05 năm. Văn bản liên quan bao gồm: các hồ sơ và CSDL khảo sát.\\n']]"
      ]
     },
     "execution_count": 14,
     "metadata": {},
     "output_type": "execute_result"
    }
   ],
   "source": [
    "@questions_bp.route('/export_reviews', methods=['GET'])\n",
    "def export_reviews():\n",
    "\ttry:\n",
    "\t\tdata = Questions.get_all()\n",
    "\t\t...\n",
    "\t\treturn send_file(output, as_attachment=True, \n",
    "\t\t\tdownload_name=\"DanhSachDanhGia.xlsx\",\n",
    "\t\t\tmimetype=\"application/vnd.openxmlformats-officedocument.spreadsheetml.sheet\")\n",
    "\texcept Exception as e:\n",
    "\t\t\treturn jsonify({\"error\": str(e)}), 500"
   ]
  },
  {
   "cell_type": "code",
   "execution_count": 27,
   "metadata": {},
   "outputs": [],
   "source": [
    "output_file = 'D:/WorkSpace/python/semantic_search/app/static/results2.xlsx'"
   ]
  },
  {
   "cell_type": "code",
   "execution_count": 5,
   "metadata": {},
   "outputs": [
    {
     "data": {
      "text/plain": [
       "['']"
      ]
     },
     "execution_count": 5,
     "metadata": {},
     "output_type": "execute_result"
    }
   ],
   "source": [
    "a = ''\n",
    "a.split('-')"
   ]
  },
  {
   "cell_type": "code",
   "execution_count": 6,
   "metadata": {},
   "outputs": [],
   "source": [
    "output_file = 'D:/WorkSpace/python/semantic_search/app/static/results3.xlsx'\n",
    "columns = ['Quy đinh', 'Câu hỏi', 'Vị trí đúng', 'Ví trí 1', 'Vị trí 2', 'Vị trí 3', 'Vị trí 4', 'Vị trí 5', 'Nhãn', 'Trả lời 1', 'Trả lời 2', 'Trả lời 3', 'Trả lời 4', 'Trả lời 5']\n",
    "df_results = pd.DataFrame(ans, columns=columns)\n",
    "df_results.to_excel(output_file, index=False)"
   ]
  },
  {
   "cell_type": "code",
   "execution_count": 28,
   "metadata": {},
   "outputs": [],
   "source": [
    "columns = ['Quy đinh', 'Câu hỏi', 'Vị trí đúng', 'Ví trí 1', 'Vị trí 2', 'Vị trí 3', 'Vị trí 4', 'Vị trí 5', 'Nhãn', 'Trả lời 1', 'Trả lời 2', 'Trả lời 3', 'Trả lời 4', 'Trả lời 5']\n",
    "df_results = pd.DataFrame(ans, columns=columns)\n",
    "df_results.to_excel(output_file, index=False)"
   ]
  },
  {
   "cell_type": "code",
   "execution_count": 12,
   "metadata": {},
   "outputs": [
    {
     "data": {
      "text/plain": [
       "['1. ']"
      ]
     },
     "execution_count": 12,
     "metadata": {},
     "output_type": "execute_result"
    }
   ],
   "source": [
    "yy = '1. '\n",
    "yy.split('-')"
   ]
  },
  {
   "cell_type": "code",
   "execution_count": null,
   "metadata": {},
   "outputs": [],
   "source": [
    "# Ghi kết quả ra file Excel\n",
    "max_columns = max(len(row) for row in results)  # Số cột lớn nhất\n",
    "columns = [\"Question\"] + [f\"Answer {i+1}\" for i in range(max_columns - 1)]\n",
    "\n",
    "df_results = pd.DataFrame(results, columns=columns)\n",
    "df_results.to_excel(output_file, index=False)\n",
    "\n",
    "print(f\"Kết quả đã được lưu vào {output_file}\")"
   ]
  },
  {
   "cell_type": "code",
   "execution_count": null,
   "metadata": {},
   "outputs": [],
   "source": [
    "\n",
    "\n",
    "# Lặp qua từng câu hỏi trong file\n",
    "for index, row in df.iterrows():\n",
    "    question = row[column_name]\n",
    "    data = {\"question\": question, \"partitions\": []}  # Cấu trúc request body\n",
    "    \n",
    "    try:\n",
    "        response = requests.post(url, json=data)\n",
    "        response.raise_for_status()\n",
    "        result = response.json()\n",
    "        \n",
    "        # Trích xuất danh sách câu trả lời\n",
    "        answers = [res[\"content\"] for res in result]\n",
    "        results.append([question] + answers)\n",
    "    \n",
    "    except Exception as e:\n",
    "        print(f\"Lỗi khi gửi câu hỏi '{question}':\", e)\n",
    "        results.append([question])  # Nếu lỗi thì chỉ lưu câu hỏi\n",
    "\n"
   ]
  },
  {
   "cell_type": "code",
   "execution_count": null,
   "metadata": {},
   "outputs": [],
   "source": []
  },
  {
   "cell_type": "code",
   "execution_count": 1,
   "metadata": {},
   "outputs": [
    {
     "name": "stderr",
     "output_type": "stream",
     "text": [
      "c:\\Users\\DO THANH HAU\\scoop\\apps\\python\\current\\Lib\\site-packages\\tqdm\\auto.py:21: TqdmWarning: IProgress not found. Please update jupyter and ipywidgets. See https://ipywidgets.readthedocs.io/en/stable/user_install.html\n",
      "  from .autonotebook import tqdm as notebook_tqdm\n"
     ]
    }
   ],
   "source": [
    "from transformers import AutoModel, AutoTokenizer\n",
    "import torch\n",
    "import py_vncorenlp\n",
    "import os\n",
    "from dotenv import load_dotenv\n",
    "load_dotenv()\n",
    "\n",
    "# Load PhoBERT\n",
    "model_name = str(os.getenv(\"PHO_BERT\"))\n",
    "tokenizer = AutoTokenizer.from_pretrained(model_name)\n",
    "model = AutoModel.from_pretrained(model_name)\n",
    "vncorenlp = py_vncorenlp.VnCoreNLP(save_dir=str(os.getenv(\"VNCORE\")))\n",
    "\n",
    "# Chuyển model sang GPU nếu có\n",
    "# # device = torch.device(\"cuda\" if torch.cuda.is_available() else \"cpu\")\n",
    "# model.to(device)\n"
   ]
  },
  {
   "cell_type": "code",
   "execution_count": null,
   "metadata": {},
   "outputs": [],
   "source": []
  },
  {
   "cell_type": "code",
   "execution_count": null,
   "metadata": {},
   "outputs": [],
   "source": []
  },
  {
   "cell_type": "code",
   "execution_count": 7,
   "metadata": {},
   "outputs": [],
   "source": [
    "text = 'sdfa ádf l ksaldf'"
   ]
  },
  {
   "cell_type": "code",
   "execution_count": 13,
   "metadata": {},
   "outputs": [
    {
     "data": {
      "text/plain": [
       "{0: [{'index': 1,\n",
       "   'wordForm': 'sdfa',\n",
       "   'posTag': 'N',\n",
       "   'nerLabel': 'O',\n",
       "   'head': 0,\n",
       "   'depLabel': 'root'},\n",
       "  {'index': 2,\n",
       "   'wordForm': 'ádf',\n",
       "   'posTag': 'V',\n",
       "   'nerLabel': 'O',\n",
       "   'head': 1,\n",
       "   'depLabel': 'nmod'},\n",
       "  {'index': 3,\n",
       "   'wordForm': 'l',\n",
       "   'posTag': 'N',\n",
       "   'nerLabel': 'O',\n",
       "   'head': 2,\n",
       "   'depLabel': 'dob'},\n",
       "  {'index': 4,\n",
       "   'wordForm': 'ksaldf',\n",
       "   'posTag': 'N',\n",
       "   'nerLabel': 'O',\n",
       "   'head': 1,\n",
       "   'depLabel': 'nmod'}]}"
      ]
     },
     "execution_count": 13,
     "metadata": {},
     "output_type": "execute_result"
    }
   ],
   "source": [
    "vncorenlp.annotate_text(text)"
   ]
  },
  {
   "cell_type": "code",
   "execution_count": 1,
   "metadata": {},
   "outputs": [
    {
     "name": "stderr",
     "output_type": "stream",
     "text": [
      "c:\\Users\\DO THANH HAU\\scoop\\apps\\python\\current\\Lib\\site-packages\\tqdm\\auto.py:21: TqdmWarning: IProgress not found. Please update jupyter and ipywidgets. See https://ipywidgets.readthedocs.io/en/stable/user_install.html\n",
      "  from .autonotebook import tqdm as notebook_tqdm\n"
     ]
    }
   ],
   "source": [
    "import os\n",
    "import torch\n",
    "import py_vncorenlp\n",
    "from transformers import AutoModel, AutoTokenizer\n",
    "from dotenv import load_dotenv\n",
    "load_dotenv()\n",
    "\n",
    "phoBert = AutoModel.from_pretrained(str(os.getenv(\"PHO_BERT\")))\n",
    "vncorenlp = py_vncorenlp.VnCoreNLP(annotators=[\"wseg\"], save_dir=str(os.getenv(\"VNCORE\")))\n",
    "phoBertTokenizer = AutoTokenizer.from_pretrained(str(os.getenv(\"PHO_BERT\")))\n",
    "\n",
    "def vectorize_text(text):\n",
    "\tarr_txt = vncorenlp.word_segment(text.lower())\n",
    "\tinputs = phoBertTokenizer(arr_txt, return_tensors=\"pt\", padding=True, truncation=True, max_length=256)\n",
    "\twith torch.no_grad():\n",
    "\t\toutputs = phoBert(**inputs)\n",
    "\tlast_hidden_state = outputs.last_hidden_state.mean(dim=[1, 0])\n",
    "\treturn last_hidden_state.cpu().numpy()"
   ]
  },
  {
   "cell_type": "code",
   "execution_count": 10,
   "metadata": {},
   "outputs": [
    {
     "name": "stderr",
     "output_type": "stream",
     "text": [
      "RPC error: [insert_rows], <ParamError: (code=1, message=Field sparse_vector don't match in entities[0])>, <Time:{'RPC start': '2025-04-07 00:28:55.313147', 'RPC error': '2025-04-07 00:28:55.319655'}>\n"
     ]
    },
    {
     "name": "stdout",
     "output_type": "stream",
     "text": [
      "<ParamError: (code=1, message=Field sparse_vector don't match in entities[0])>\n"
     ]
    }
   ],
   "source": [
    "from pymilvus import MilvusClient\n",
    "import uuid\n",
    "client = MilvusClient()\n",
    "\n",
    "text = 'Hôm nay tôi không khoẻ'\n",
    "\n",
    "vector = vectorize_text(text)\n",
    "\n",
    "data = [\n",
    "    {\n",
    "        \"id\": str(uuid.uuid4()).replace(\"-\", \"_\"),\n",
    "        \"vector\": vector,\n",
    "        \"content\": text,\n",
    "        \"rank\": 1,\n",
    "        \"page\": 1,\n",
    "        \"key\": 1,\n",
    "        \"parents_id\": str(uuid.uuid4()).replace(\"-\", \"_\"),\n",
    "        \"child_ids\": [],\n",
    "        \"position\": [],\n",
    "        \"doc_id\": str(uuid.uuid4()).replace(\"-\", \"_\")\n",
    "\t\t}\n",
    "]\n",
    "\n",
    "try:\n",
    "\tclient.insert(\n",
    "\t\t\tcollection_name = 'DOCUMENT_PARTS',\n",
    "\t\t\tdata = data\n",
    "\t)\n",
    "except Exception as e:\n",
    "\tprint(e)"
   ]
  },
  {
   "cell_type": "code",
   "execution_count": 9,
   "metadata": {},
   "outputs": [
    {
     "data": {
      "text/plain": [
       "{'collection_name': 'DOCUMENT_PARTS',\n",
       " 'auto_id': False,\n",
       " 'num_shards': 1,\n",
       " 'description': '',\n",
       " 'fields': [{'field_id': 100,\n",
       "   'name': 'id',\n",
       "   'description': '',\n",
       "   'type': <DataType.VARCHAR: 21>,\n",
       "   'params': {'max_length': 255},\n",
       "   'is_primary': True},\n",
       "  {'field_id': 101,\n",
       "   'name': 'rank',\n",
       "   'description': '',\n",
       "   'type': <DataType.INT16: 3>,\n",
       "   'params': {}},\n",
       "  {'field_id': 102,\n",
       "   'name': 'key',\n",
       "   'description': '',\n",
       "   'type': <DataType.DOUBLE: 11>,\n",
       "   'params': {}},\n",
       "  {'field_id': 103,\n",
       "   'name': 'page',\n",
       "   'description': '',\n",
       "   'type': <DataType.INT16: 3>,\n",
       "   'params': {}},\n",
       "  {'field_id': 104,\n",
       "   'name': 'content',\n",
       "   'description': '',\n",
       "   'type': <DataType.VARCHAR: 21>,\n",
       "   'params': {'max_length': 65000, 'enable_analyzer': 'true'}},\n",
       "  {'field_id': 105,\n",
       "   'name': 'parents_id',\n",
       "   'description': '',\n",
       "   'type': <DataType.VARCHAR: 21>,\n",
       "   'params': {'max_length': 255}},\n",
       "  {'field_id': 106,\n",
       "   'name': 'child_ids',\n",
       "   'description': '',\n",
       "   'type': <DataType.ARRAY: 22>,\n",
       "   'params': {'max_length': 255, 'max_capacity': 255},\n",
       "   'element_type': <DataType.VARCHAR: 21>},\n",
       "  {'field_id': 107,\n",
       "   'name': 'vector',\n",
       "   'description': '',\n",
       "   'type': <DataType.FLOAT_VECTOR: 101>,\n",
       "   'params': {'dim': 768}},\n",
       "  {'field_id': 108,\n",
       "   'name': 'sparse_vector',\n",
       "   'description': '',\n",
       "   'type': <DataType.SPARSE_FLOAT_VECTOR: 104>,\n",
       "   'params': {}},\n",
       "  {'field_id': 109,\n",
       "   'name': 'position',\n",
       "   'description': '',\n",
       "   'type': <DataType.ARRAY: 22>,\n",
       "   'params': {'max_length': 255, 'max_capacity': 255},\n",
       "   'element_type': <DataType.VARCHAR: 21>},\n",
       "  {'field_id': 110,\n",
       "   'name': 'doc_id',\n",
       "   'description': '',\n",
       "   'type': <DataType.VARCHAR: 21>,\n",
       "   'params': {'max_length': 255}}],\n",
       " 'aliases': [],\n",
       " 'collection_id': 457166036723178420,\n",
       " 'consistency_level': 2,\n",
       " 'properties': {},\n",
       " 'num_partitions': 2,\n",
       " 'enable_dynamic_field': True}"
      ]
     },
     "execution_count": 9,
     "metadata": {},
     "output_type": "execute_result"
    }
   ],
   "source": [
    "client.describe_collection(collection_name='DOCUMENT_PARTS')"
   ]
  },
  {
   "cell_type": "code",
   "execution_count": 2,
   "metadata": {},
   "outputs": [],
   "source": [
    "import numpy as np\n",
    "\n",
    "def dot_product(vector_a, vector_b):\n",
    "    # Kiểm tra nếu hai vector có cùng chiều\n",
    "    if len(vector_a) != len(vector_b):\n",
    "        raise ValueError(\"Hai vector phải có cùng chiều.\")\n",
    "    \n",
    "    # Tính tích vô hướng\n",
    "    return np.dot(vector_a, vector_b)\n",
    "\n"
   ]
  },
  {
   "cell_type": "code",
   "execution_count": 12,
   "metadata": {},
   "outputs": [],
   "source": [
    "import numpy as np\n",
    "\n",
    "def normalize_vector(a):\n",
    "    \"\"\"\n",
    "    Chuẩn hóa vector a theo chuẩn Euclid (L2).\n",
    "    \n",
    "    Tham số:\n",
    "    a (list hoặc numpy array): Vector đầu vào.\n",
    "    \n",
    "    Trả về:\n",
    "    numpy array: Vector đã được chuẩn hóa.\n",
    "    \"\"\"\n",
    "    a = np.array(a)  # Chuyển thành numpy array\n",
    "    norm = np.sqrt(np.sum(a**2))  # Tính chuẩn Euclid\n",
    "    if norm == 0:\n",
    "        return a  # Tránh chia cho 0\n",
    "    return a / norm\n",
    "\n"
   ]
  },
  {
   "cell_type": "code",
   "execution_count": 8,
   "metadata": {},
   "outputs": [],
   "source": [
    "t1 = 'chuẩn đầu ra ngoại ngữ là bao nhiêu ạ'\n",
    "t2 = 'chuẩn đầu ra tiếng anh là bao nhiêu ạ'\n",
    "t3 = 'chuẩn đầu ra tin học là bao nhiêu ạ'"
   ]
  },
  {
   "cell_type": "code",
   "execution_count": 9,
   "metadata": {},
   "outputs": [],
   "source": [
    "v1 = vectorize_text(t1)\n",
    "v2 = vectorize_text(t2)\n",
    "v3 = vectorize_text(t3)"
   ]
  },
  {
   "cell_type": "code",
   "execution_count": 10,
   "metadata": {},
   "outputs": [
    {
     "name": "stdout",
     "output_type": "stream",
     "text": [
      "39.07083\n",
      "38.86118\n"
     ]
    }
   ],
   "source": [
    "print(dot_product(v1, v2))\n",
    "print(dot_product(v3, v2))"
   ]
  },
  {
   "cell_type": "code",
   "execution_count": 14,
   "metadata": {},
   "outputs": [],
   "source": [
    "v4 = normalize_vector(v1)\n",
    "v5 = normalize_vector(v2)\n",
    "v6 = normalize_vector(v3)"
   ]
  },
  {
   "cell_type": "code",
   "execution_count": 16,
   "metadata": {},
   "outputs": [
    {
     "name": "stdout",
     "output_type": "stream",
     "text": [
      "0.9375869\n",
      "0.9400047\n"
     ]
    }
   ],
   "source": [
    "print(dot_product(v4, v5))\n",
    "print(dot_product(v4, v6))"
   ]
  },
  {
   "cell_type": "code",
   "execution_count": 1,
   "metadata": {},
   "outputs": [
    {
     "name": "stdout",
     "output_type": "stream",
     "text": [
      "xin chào  hôm nay bạn thế nào \n"
     ]
    }
   ],
   "source": [
    "import string\n",
    "\n",
    "def clean_text(text):\n",
    "    # Dùng translate để thay thế dấu câu thành khoảng trắng\n",
    "    text = text.translate(str.maketrans(string.punctuation, ' ' * len(string.punctuation)))\n",
    "    return text.lower()  # Chuyển về chữ thường\n",
    "\n",
    "\n",
    "s = \"Xin Chào! Hôm nay bạn thế nào?\"\n",
    "result = clean_text(s)\n",
    "print(result)  # Output: xin chào hôm nay bạn thế nào\n"
   ]
  },
  {
   "cell_type": "code",
   "execution_count": 2,
   "metadata": {},
   "outputs": [],
   "source": [
    "folder_file = 'D:/WorkSpace/python/semantic_search/app/static/quy_dinh_quy_che/txt'\n",
    "input_file = \"D:/WorkSpace/python/semantic_search/app/static/questions.xlsx\"\n"
   ]
  },
  {
   "cell_type": "code",
   "execution_count": 3,
   "metadata": {},
   "outputs": [
    {
     "name": "stderr",
     "output_type": "stream",
     "text": [
      "C:\\Users\\DO THANH HAU\\AppData\\Local\\Temp\\ipykernel_16564\\2987999299.py:25: FutureWarning: Series.__getitem__ treating keys as positions is deprecated. In a future version, integer keys will always be treated as labels (consistent with DataFrame behavior). To access a value by position, use `ser.iloc[pos]`\n",
      "  question = row[2]\n"
     ]
    }
   ],
   "source": [
    "\n",
    "import re\n",
    "import pandas as pd\n",
    "import os\n",
    "folder_path = \"D:/WorkSpace/python/semantic_search/app/static/quy_dinh_quy_che/txt\"  # Thay đường dẫn thư mục của bạn\n",
    "word_dict = {}  # Dictionary để lưu các từ\n",
    "\n",
    "\n",
    "# Đọc file và thu thập các từ duy nhất\n",
    "for filename in os.listdir(folder_path):\n",
    "    if filename.endswith(\".txt\"):  \n",
    "        file_path = os.path.join(folder_path, filename)\n",
    "        with open(file_path, \"r\", encoding=\"utf-8\") as f:\n",
    "            content = f.read()\n",
    "            content = re.sub(r'\\s+', ' ', content).strip().lower()\n",
    "            content = clean_text(content)\n",
    "            words = content.split(\" \")  \n",
    "            \n",
    "            for word in words:\n",
    "                word = word.strip()  # Loại bỏ khoảng trắng dư thừa\n",
    "                if word and word not in word_dict:\n",
    "                    word_dict[word] = True  \n",
    "\n",
    "df = pd.read_excel(input_file)\n",
    "for index, row in df.iterrows():\n",
    "\tquestion = row[2]\n",
    "\tcontent = re.sub(r'\\s+', ' ', content).strip().lower()\n",
    "\tquestion = clean_text(question)\n",
    "      \n",
    "\tword = question.split(' ')\n",
    "\tfor word in words:\n",
    "\t\tword = word.strip()  # Loại bỏ khoảng trắng dư thừa\n",
    "\t\tif word and word not in word_dict:\n",
    "\t\t\t\tword_dict[word] = True  \n",
    "\n",
    "# Ghi các từ ra file mới, mỗi từ một dòng\n",
    "output_file = \"unique_words.txt\"\n",
    "with open(output_file, \"w\", encoding=\"utf-8\") as f:\n",
    "    for word in word_dict.keys():\n",
    "        f.write(word + \"\\n\")\n"
   ]
  },
  {
   "cell_type": "code",
   "execution_count": null,
   "metadata": {},
   "outputs": [],
   "source": []
  }
 ],
 "metadata": {
  "kernelspec": {
   "display_name": "Python 3",
   "language": "python",
   "name": "python3"
  },
  "language_info": {
   "codemirror_mode": {
    "name": "ipython",
    "version": 3
   },
   "file_extension": ".py",
   "mimetype": "text/x-python",
   "name": "python",
   "nbconvert_exporter": "python",
   "pygments_lexer": "ipython3",
   "version": "3.12.4"
  }
 },
 "nbformat": 4,
 "nbformat_minor": 2
}
